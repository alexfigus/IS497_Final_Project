{
 "cells": [
  {
   "cell_type": "markdown",
   "id": "proof-partnership",
   "metadata": {},
   "source": [
    "# Cryptocurrency Python Analysis with Jupyter Notebook"
   ]
  },
  {
   "cell_type": "markdown",
   "id": "little-little",
   "metadata": {},
   "source": [
    "## Step 1: Install The Required Packages"
   ]
  },
  {
   "cell_type": "markdown",
   "id": "ecological-heath",
   "metadata": {},
   "source": [
    "This is for users who do not have the proper packages. We will be using matplotlib and pandas for this project so I added the install requirements just in case they are needed."
   ]
  },
  {
   "cell_type": "code",
   "execution_count": 1,
   "id": "royal-carry",
   "metadata": {},
   "outputs": [
    {
     "name": "stdout",
     "output_type": "stream",
     "text": [
      "Requirement already satisfied: pandas in ./miniconda3/lib/python3.8/site-packages (1.2.1)\n",
      "Requirement already satisfied: python-dateutil>=2.7.3 in ./miniconda3/lib/python3.8/site-packages (from pandas) (2.8.1)\n",
      "Requirement already satisfied: pytz>=2017.3 in ./miniconda3/lib/python3.8/site-packages (from pandas) (2020.5)\n",
      "Requirement already satisfied: numpy>=1.16.5 in ./miniconda3/lib/python3.8/site-packages (from pandas) (1.19.2)\n",
      "Requirement already satisfied: six>=1.5 in ./miniconda3/lib/python3.8/site-packages (from python-dateutil>=2.7.3->pandas) (1.15.0)\n",
      "Note: you may need to restart the kernel to use updated packages.\n"
     ]
    }
   ],
   "source": [
    "pip install pandas"
   ]
  },
  {
   "cell_type": "code",
   "execution_count": 2,
   "id": "perfect-sympathy",
   "metadata": {},
   "outputs": [
    {
     "name": "stdout",
     "output_type": "stream",
     "text": [
      "Requirement already satisfied: matplotlib in ./miniconda3/lib/python3.8/site-packages (3.3.4)\n",
      "Requirement already satisfied: cycler>=0.10 in ./miniconda3/lib/python3.8/site-packages (from matplotlib) (0.10.0)\n",
      "Requirement already satisfied: pyparsing!=2.0.4,!=2.1.2,!=2.1.6,>=2.0.3 in ./miniconda3/lib/python3.8/site-packages (from matplotlib) (2.4.7)\n",
      "Requirement already satisfied: numpy>=1.15 in ./miniconda3/lib/python3.8/site-packages (from matplotlib) (1.19.2)\n",
      "Requirement already satisfied: kiwisolver>=1.0.1 in ./miniconda3/lib/python3.8/site-packages (from matplotlib) (1.3.1)\n",
      "Requirement already satisfied: pillow>=6.2.0 in ./miniconda3/lib/python3.8/site-packages (from matplotlib) (8.1.2)\n",
      "Requirement already satisfied: python-dateutil>=2.1 in ./miniconda3/lib/python3.8/site-packages (from matplotlib) (2.8.1)\n",
      "Requirement already satisfied: six in ./miniconda3/lib/python3.8/site-packages (from cycler>=0.10->matplotlib) (1.15.0)\n",
      "Note: you may need to restart the kernel to use updated packages.\n"
     ]
    }
   ],
   "source": [
    "pip install matplotlib"
   ]
  },
  {
   "cell_type": "markdown",
   "id": "visible-malaysia",
   "metadata": {},
   "source": [
    "## Step 2: Import The Packages "
   ]
  },
  {
   "cell_type": "markdown",
   "id": "knowing-african",
   "metadata": {},
   "source": [
    "The \"as\" function allows the user to give a nickname for the package. I chose \"pd\" for pandas and \"plt\" for matplotlib because they are generally accepted uses for them."
   ]
  },
  {
   "cell_type": "code",
   "execution_count": 3,
   "id": "hourly-offering",
   "metadata": {},
   "outputs": [],
   "source": [
    "import pandas as pd\n",
    "import matplotlib.pyplot as plt"
   ]
  },
  {
   "cell_type": "markdown",
   "id": "documented-syntax",
   "metadata": {},
   "source": [
    "## Step 3: Read In The Revised CSV File"
   ]
  },
  {
   "cell_type": "markdown",
   "id": "artistic-summit",
   "metadata": {},
   "source": [
    "Depending on where the user places their CSV file, it is important to follow the proper labeling needed to run the data set. I chose the Desktop location because it was easier to access and review if there are changes needed."
   ]
  },
  {
   "cell_type": "code",
   "execution_count": 4,
   "id": "needed-screening",
   "metadata": {},
   "outputs": [
    {
     "data": {
      "text/html": [
       "<div>\n",
       "<style scoped>\n",
       "    .dataframe tbody tr th:only-of-type {\n",
       "        vertical-align: middle;\n",
       "    }\n",
       "\n",
       "    .dataframe tbody tr th {\n",
       "        vertical-align: top;\n",
       "    }\n",
       "\n",
       "    .dataframe thead th {\n",
       "        text-align: right;\n",
       "    }\n",
       "</style>\n",
       "<table border=\"1\" class=\"dataframe\">\n",
       "  <thead>\n",
       "    <tr style=\"text-align: right;\">\n",
       "      <th></th>\n",
       "      <th>File</th>\n",
       "      <th>SNo</th>\n",
       "      <th>Name</th>\n",
       "      <th>Symbol</th>\n",
       "      <th>Date</th>\n",
       "      <th>High</th>\n",
       "      <th>Low</th>\n",
       "      <th>Open</th>\n",
       "      <th>Close</th>\n",
       "      <th>Volume</th>\n",
       "      <th>Marketcap</th>\n",
       "    </tr>\n",
       "  </thead>\n",
       "  <tbody>\n",
       "    <tr>\n",
       "      <th>0</th>\n",
       "      <td>coin_Aave.csv</td>\n",
       "      <td>1</td>\n",
       "      <td>Aave</td>\n",
       "      <td>AAVE</td>\n",
       "      <td>2020-10-05 23:59:59</td>\n",
       "      <td>55.112358</td>\n",
       "      <td>49.787900</td>\n",
       "      <td>52.675035</td>\n",
       "      <td>53.219243</td>\n",
       "      <td>0.000000e+00</td>\n",
       "      <td>8.912813e+07</td>\n",
       "    </tr>\n",
       "    <tr>\n",
       "      <th>1</th>\n",
       "      <td>coin_Aave.csv</td>\n",
       "      <td>2</td>\n",
       "      <td>Aave</td>\n",
       "      <td>AAVE</td>\n",
       "      <td>2020-10-06 23:59:59</td>\n",
       "      <td>53.402270</td>\n",
       "      <td>40.734578</td>\n",
       "      <td>53.291969</td>\n",
       "      <td>42.401599</td>\n",
       "      <td>5.830915e+05</td>\n",
       "      <td>7.101144e+07</td>\n",
       "    </tr>\n",
       "    <tr>\n",
       "      <th>2</th>\n",
       "      <td>coin_Aave.csv</td>\n",
       "      <td>3</td>\n",
       "      <td>Aave</td>\n",
       "      <td>AAVE</td>\n",
       "      <td>2020-10-07 23:59:59</td>\n",
       "      <td>42.408314</td>\n",
       "      <td>35.970690</td>\n",
       "      <td>42.399947</td>\n",
       "      <td>40.083976</td>\n",
       "      <td>6.828342e+05</td>\n",
       "      <td>6.713004e+07</td>\n",
       "    </tr>\n",
       "    <tr>\n",
       "      <th>3</th>\n",
       "      <td>coin_Aave.csv</td>\n",
       "      <td>4</td>\n",
       "      <td>Aave</td>\n",
       "      <td>AAVE</td>\n",
       "      <td>2020-10-08 23:59:59</td>\n",
       "      <td>44.902511</td>\n",
       "      <td>36.696057</td>\n",
       "      <td>39.885262</td>\n",
       "      <td>43.764463</td>\n",
       "      <td>1.658817e+06</td>\n",
       "      <td>2.202651e+08</td>\n",
       "    </tr>\n",
       "    <tr>\n",
       "      <th>4</th>\n",
       "      <td>coin_Aave.csv</td>\n",
       "      <td>5</td>\n",
       "      <td>Aave</td>\n",
       "      <td>AAVE</td>\n",
       "      <td>2020-10-09 23:59:59</td>\n",
       "      <td>47.569533</td>\n",
       "      <td>43.291776</td>\n",
       "      <td>43.764463</td>\n",
       "      <td>46.817744</td>\n",
       "      <td>8.155377e+05</td>\n",
       "      <td>2.356322e+08</td>\n",
       "    </tr>\n",
       "    <tr>\n",
       "      <th>...</th>\n",
       "      <td>...</td>\n",
       "      <td>...</td>\n",
       "      <td>...</td>\n",
       "      <td>...</td>\n",
       "      <td>...</td>\n",
       "      <td>...</td>\n",
       "      <td>...</td>\n",
       "      <td>...</td>\n",
       "      <td>...</td>\n",
       "      <td>...</td>\n",
       "      <td>...</td>\n",
       "    </tr>\n",
       "    <tr>\n",
       "      <th>37077</th>\n",
       "      <td>coin_XRP.csv</td>\n",
       "      <td>2889</td>\n",
       "      <td>XRP</td>\n",
       "      <td>XRP</td>\n",
       "      <td>2021-07-02 23:59:59</td>\n",
       "      <td>0.667287</td>\n",
       "      <td>0.634726</td>\n",
       "      <td>0.659890</td>\n",
       "      <td>0.656763</td>\n",
       "      <td>2.061607e+09</td>\n",
       "      <td>3.030759e+10</td>\n",
       "    </tr>\n",
       "    <tr>\n",
       "      <th>37078</th>\n",
       "      <td>coin_XRP.csv</td>\n",
       "      <td>2890</td>\n",
       "      <td>XRP</td>\n",
       "      <td>XRP</td>\n",
       "      <td>2021-07-03 23:59:59</td>\n",
       "      <td>0.683677</td>\n",
       "      <td>0.644653</td>\n",
       "      <td>0.655639</td>\n",
       "      <td>0.672888</td>\n",
       "      <td>1.872820e+09</td>\n",
       "      <td>3.105172e+10</td>\n",
       "    </tr>\n",
       "    <tr>\n",
       "      <th>37079</th>\n",
       "      <td>coin_XRP.csv</td>\n",
       "      <td>2891</td>\n",
       "      <td>XRP</td>\n",
       "      <td>XRP</td>\n",
       "      <td>2021-07-04 23:59:59</td>\n",
       "      <td>0.707783</td>\n",
       "      <td>0.665802</td>\n",
       "      <td>0.673218</td>\n",
       "      <td>0.694945</td>\n",
       "      <td>1.885242e+09</td>\n",
       "      <td>3.206960e+10</td>\n",
       "    </tr>\n",
       "    <tr>\n",
       "      <th>37080</th>\n",
       "      <td>coin_XRP.csv</td>\n",
       "      <td>2892</td>\n",
       "      <td>XRP</td>\n",
       "      <td>XRP</td>\n",
       "      <td>2021-07-05 23:59:59</td>\n",
       "      <td>0.695653</td>\n",
       "      <td>0.648492</td>\n",
       "      <td>0.695653</td>\n",
       "      <td>0.654300</td>\n",
       "      <td>2.076373e+09</td>\n",
       "      <td>3.019395e+10</td>\n",
       "    </tr>\n",
       "    <tr>\n",
       "      <th>37081</th>\n",
       "      <td>coin_XRP.csv</td>\n",
       "      <td>2893</td>\n",
       "      <td>XRP</td>\n",
       "      <td>XRP</td>\n",
       "      <td>2021-07-06 23:59:59</td>\n",
       "      <td>0.679923</td>\n",
       "      <td>0.652676</td>\n",
       "      <td>0.653055</td>\n",
       "      <td>0.665402</td>\n",
       "      <td>1.938959e+09</td>\n",
       "      <td>3.072284e+10</td>\n",
       "    </tr>\n",
       "  </tbody>\n",
       "</table>\n",
       "<p>37082 rows × 11 columns</p>\n",
       "</div>"
      ],
      "text/plain": [
       "                File   SNo  Name Symbol                 Date       High  \\\n",
       "0      coin_Aave.csv     1  Aave   AAVE  2020-10-05 23:59:59  55.112358   \n",
       "1      coin_Aave.csv     2  Aave   AAVE  2020-10-06 23:59:59  53.402270   \n",
       "2      coin_Aave.csv     3  Aave   AAVE  2020-10-07 23:59:59  42.408314   \n",
       "3      coin_Aave.csv     4  Aave   AAVE  2020-10-08 23:59:59  44.902511   \n",
       "4      coin_Aave.csv     5  Aave   AAVE  2020-10-09 23:59:59  47.569533   \n",
       "...              ...   ...   ...    ...                  ...        ...   \n",
       "37077   coin_XRP.csv  2889   XRP    XRP  2021-07-02 23:59:59   0.667287   \n",
       "37078   coin_XRP.csv  2890   XRP    XRP  2021-07-03 23:59:59   0.683677   \n",
       "37079   coin_XRP.csv  2891   XRP    XRP  2021-07-04 23:59:59   0.707783   \n",
       "37080   coin_XRP.csv  2892   XRP    XRP  2021-07-05 23:59:59   0.695653   \n",
       "37081   coin_XRP.csv  2893   XRP    XRP  2021-07-06 23:59:59   0.679923   \n",
       "\n",
       "             Low       Open      Close        Volume     Marketcap  \n",
       "0      49.787900  52.675035  53.219243  0.000000e+00  8.912813e+07  \n",
       "1      40.734578  53.291969  42.401599  5.830915e+05  7.101144e+07  \n",
       "2      35.970690  42.399947  40.083976  6.828342e+05  6.713004e+07  \n",
       "3      36.696057  39.885262  43.764463  1.658817e+06  2.202651e+08  \n",
       "4      43.291776  43.764463  46.817744  8.155377e+05  2.356322e+08  \n",
       "...          ...        ...        ...           ...           ...  \n",
       "37077   0.634726   0.659890   0.656763  2.061607e+09  3.030759e+10  \n",
       "37078   0.644653   0.655639   0.672888  1.872820e+09  3.105172e+10  \n",
       "37079   0.665802   0.673218   0.694945  1.885242e+09  3.206960e+10  \n",
       "37080   0.648492   0.695653   0.654300  2.076373e+09  3.019395e+10  \n",
       "37081   0.652676   0.653055   0.665402  1.938959e+09  3.072284e+10  \n",
       "\n",
       "[37082 rows x 11 columns]"
      ]
     },
     "execution_count": 4,
     "metadata": {},
     "output_type": "execute_result"
    }
   ],
   "source": [
    "df = pd.read_csv('/Users/alexfigus/Desktop/Crypto Coin List.csv')\n",
    "df"
   ]
  },
  {
   "cell_type": "markdown",
   "id": "following-cotton",
   "metadata": {},
   "source": [
    "## Step 4: Organize the Cryptocurrencies by Name"
   ]
  },
  {
   "cell_type": "markdown",
   "id": "asian-walter",
   "metadata": {},
   "source": [
    "This step was lengthy to perform for all 23 coins so i believe there is a more effective method, but I believe this method helps the user to visualize the process to select a specific part of the CSV file."
   ]
  },
  {
   "cell_type": "code",
   "execution_count": 5,
   "id": "victorian-chrome",
   "metadata": {},
   "outputs": [],
   "source": [
    "aave_df = df.loc[df.Name == 'Aave']\n",
    "binancecoin_df = df.loc[df.Name == 'Binance Coin']\n",
    "bitcoin_df = df.loc[df.Name == 'Bitcoin']\n",
    "cardano_df = df.loc[df.Name == 'Cardano']\n",
    "chainlink_df = df.loc[df.Name == 'Chainlink']\n",
    "cosmos_df = df.loc[df.Name == 'Cosmos']\n",
    "cryptocomcoin_df = df.loc[df.Name == 'Crypto.com Coin']\n",
    "dogecoin_df = df.loc[df.Name == 'Dogecoin']\n",
    "eos_df = df.loc[df.Name == 'EOS']\n",
    "ethereum_df = df.loc[df.Name == 'Ethereum']\n",
    "iota_df = df.loc[df.Name == 'IOTA']\n",
    "litecoin_df = df.loc[df.Name == 'Litecoin']\n",
    "monero_df = df.loc[df.Name == 'Monero']\n",
    "polkadot_df = df.loc[df.Name == 'Polkadot']\n",
    "solana_df = df.loc[df.Name == 'Solana']\n",
    "stellar_df = df.loc[df.Name == 'Stellar']\n",
    "tether_df = df.loc[df.Name == 'Tether']\n",
    "tron_df = df.loc[df.Name == 'TRON']\n",
    "usdcoin_df = df.loc[df.Name == 'USD Coin']\n",
    "uniswap_df = df.loc[df.Name == 'Uniswap']\n",
    "wrappedbitcoin_df = df.loc[df.Name == 'Wrapped Bitcoin']\n",
    "nem_df = df.loc[df.Name == 'NEM']\n",
    "xrp_df = df.loc[df.Name == 'XRP']"
   ]
  },
  {
   "cell_type": "markdown",
   "id": "spoken-accident",
   "metadata": {},
   "source": [
    "## Step 5: Processes For Data Visualization"
   ]
  },
  {
   "cell_type": "markdown",
   "id": "iraqi-arrival",
   "metadata": {},
   "source": [
    "The first step of the process is to list the names of all the data frames. Gives the user more options and decisions to choose for their analysis."
   ]
  },
  {
   "cell_type": "code",
   "execution_count": 6,
   "id": "equivalent-silicon",
   "metadata": {},
   "outputs": [],
   "source": [
    "crypto_list = [aave_df, binancecoin_df, bitcoin_df, cardano_df, chainlink_df, cosmos_df, cryptocomcoin_df, dogecoin_df, eos_df, ethereum_df, iota_df, litecoin_df, monero_df, polkadot_df, solana_df, stellar_df, tether_df, tron_df, usdcoin_df, uniswap_df, wrappedbitcoin_df, nem_df, xrp_df]"
   ]
  },
  {
   "cell_type": "markdown",
   "id": "swedish-franklin",
   "metadata": {},
   "source": [
    "### Code For Data Visualization #1"
   ]
  },
  {
   "cell_type": "markdown",
   "id": "associate-breed",
   "metadata": {},
   "source": [
    "This section contains the code needed to build the data visualization for graphs labeled #1. This will help you find the max volume and create another dataframe based on the \"Name\" and \"Marketcap\" of the cryptocurrencies. It will also help you find the top five of a specific criteria."
   ]
  },
  {
   "cell_type": "markdown",
   "id": "orange-cross",
   "metadata": {},
   "source": [
    "This list will hold the values of the for loop."
   ]
  },
  {
   "cell_type": "code",
   "execution_count": 7,
   "id": "tracked-phase",
   "metadata": {},
   "outputs": [],
   "source": [
    "max_crypto_list = []"
   ]
  },
  {
   "cell_type": "markdown",
   "id": "affiliated-success",
   "metadata": {},
   "source": [
    "Takes the largest marketcap and name values for each dataframe and returns it into the list."
   ]
  },
  {
   "cell_type": "code",
   "execution_count": 8,
   "id": "decimal-potential",
   "metadata": {},
   "outputs": [],
   "source": [
    "for i in crypto_list:\n",
    "    max_marketcap_value = [i['Name'].max(), i['Marketcap'].max()]\n",
    "    max_crypto_list.append(max_marketcap_value)"
   ]
  },
  {
   "cell_type": "markdown",
   "id": "headed-magic",
   "metadata": {},
   "source": [
    "Create a new dataframe that holds the Name and Maximum Marketcap for each of the coins."
   ]
  },
  {
   "cell_type": "code",
   "execution_count": 9,
   "id": "declared-manual",
   "metadata": {},
   "outputs": [],
   "source": [
    "max_marketcap_df = pd.DataFrame(max_crypto_list, columns=['Name', 'Marketcap'])"
   ]
  },
  {
   "cell_type": "markdown",
   "id": "opposite-marketplace",
   "metadata": {},
   "source": [
    "Nlargest was referenced by the following link. Their full citation will be in the reference folder.\n",
    "\n",
    "Reference link: https://pandas.pydata.org/docs/reference/api/pandas.DataFrame.nlargest.html"
   ]
  },
  {
   "cell_type": "code",
   "execution_count": 10,
   "id": "partial-fleet",
   "metadata": {},
   "outputs": [
    {
     "data": {
      "text/html": [
       "<div>\n",
       "<style scoped>\n",
       "    .dataframe tbody tr th:only-of-type {\n",
       "        vertical-align: middle;\n",
       "    }\n",
       "\n",
       "    .dataframe tbody tr th {\n",
       "        vertical-align: top;\n",
       "    }\n",
       "\n",
       "    .dataframe thead th {\n",
       "        text-align: right;\n",
       "    }\n",
       "</style>\n",
       "<table border=\"1\" class=\"dataframe\">\n",
       "  <thead>\n",
       "    <tr style=\"text-align: right;\">\n",
       "      <th></th>\n",
       "      <th>Name</th>\n",
       "      <th>Marketcap</th>\n",
       "    </tr>\n",
       "  </thead>\n",
       "  <tbody>\n",
       "    <tr>\n",
       "      <th>2</th>\n",
       "      <td>Bitcoin</td>\n",
       "      <td>1.186364e+12</td>\n",
       "    </tr>\n",
       "    <tr>\n",
       "      <th>9</th>\n",
       "      <td>Ethereum</td>\n",
       "      <td>4.828819e+11</td>\n",
       "    </tr>\n",
       "    <tr>\n",
       "      <th>22</th>\n",
       "      <td>XRP</td>\n",
       "      <td>1.308535e+11</td>\n",
       "    </tr>\n",
       "    <tr>\n",
       "      <th>1</th>\n",
       "      <td>Binance Coin</td>\n",
       "      <td>1.036722e+11</td>\n",
       "    </tr>\n",
       "    <tr>\n",
       "      <th>7</th>\n",
       "      <td>Dogecoin</td>\n",
       "      <td>8.868082e+10</td>\n",
       "    </tr>\n",
       "  </tbody>\n",
       "</table>\n",
       "</div>"
      ],
      "text/plain": [
       "            Name     Marketcap\n",
       "2        Bitcoin  1.186364e+12\n",
       "9       Ethereum  4.828819e+11\n",
       "22           XRP  1.308535e+11\n",
       "1   Binance Coin  1.036722e+11\n",
       "7       Dogecoin  8.868082e+10"
      ]
     },
     "execution_count": 10,
     "metadata": {},
     "output_type": "execute_result"
    }
   ],
   "source": [
    "top_five = max_marketcap_df.nlargest(5, 'Marketcap')\n",
    "top_five"
   ]
  },
  {
   "cell_type": "markdown",
   "id": "environmental-forge",
   "metadata": {},
   "source": [
    "The data frame can be separated and labeled by name and marketcap which is helpful for other analysis and research for the future project."
   ]
  },
  {
   "cell_type": "code",
   "execution_count": 11,
   "id": "rocky-morris",
   "metadata": {},
   "outputs": [],
   "source": [
    "names = top_five['Name']\n",
    "topfive_marketcap = top_five['Marketcap']"
   ]
  },
  {
   "cell_type": "markdown",
   "id": "lined-committee",
   "metadata": {},
   "source": [
    "### Code For Data Visualization #2"
   ]
  },
  {
   "cell_type": "markdown",
   "id": "numeric-request",
   "metadata": {},
   "source": [
    "List will hold the smalle data values for the data set."
   ]
  },
  {
   "cell_type": "code",
   "execution_count": 12,
   "id": "acknowledged-industry",
   "metadata": {},
   "outputs": [],
   "source": [
    "min_crypto_date = []"
   ]
  },
  {
   "cell_type": "markdown",
   "id": "qualified-wrist",
   "metadata": {},
   "source": [
    "For loop will find the smallest name and date for each dataframe above. This will provide a list of each of the 23 cryptocurrencies."
   ]
  },
  {
   "cell_type": "code",
   "execution_count": 13,
   "id": "involved-advertiser",
   "metadata": {},
   "outputs": [],
   "source": [
    "for i in crypto_list:\n",
    "    min_date_value = [i['Name'].min(), i['Date'].min()]\n",
    "    min_crypto_date.append(min_date_value)"
   ]
  },
  {
   "cell_type": "markdown",
   "id": "forward-hobby",
   "metadata": {},
   "source": [
    "The next thing would be to change the list into a dataframe containing the name and date of the 23 listed."
   ]
  },
  {
   "cell_type": "code",
   "execution_count": 14,
   "id": "guilty-trance",
   "metadata": {},
   "outputs": [],
   "source": [
    "min_date_df = pd.DataFrame(min_crypto_date, columns =['Name', 'Date'])"
   ]
  },
  {
   "cell_type": "markdown",
   "id": "framed-accident",
   "metadata": {},
   "source": [
    "Then we select the five oldest coins by ordering them from oldest to newest. This can be used to find the newest coins or averages as well.\n",
    "\n",
    "Reference link: https://pandas.pydata.org/docs/reference/api/pandas.DataFrame.sort_values.html"
   ]
  },
  {
   "cell_type": "code",
   "execution_count": 15,
   "id": "ethical-warrior",
   "metadata": {},
   "outputs": [
    {
     "data": {
      "text/html": [
       "<div>\n",
       "<style scoped>\n",
       "    .dataframe tbody tr th:only-of-type {\n",
       "        vertical-align: middle;\n",
       "    }\n",
       "\n",
       "    .dataframe tbody tr th {\n",
       "        vertical-align: top;\n",
       "    }\n",
       "\n",
       "    .dataframe thead th {\n",
       "        text-align: right;\n",
       "    }\n",
       "</style>\n",
       "<table border=\"1\" class=\"dataframe\">\n",
       "  <thead>\n",
       "    <tr style=\"text-align: right;\">\n",
       "      <th></th>\n",
       "      <th>Name</th>\n",
       "      <th>Date</th>\n",
       "    </tr>\n",
       "  </thead>\n",
       "  <tbody>\n",
       "    <tr>\n",
       "      <th>11</th>\n",
       "      <td>Litecoin</td>\n",
       "      <td>2013-04-29 23:59:59</td>\n",
       "    </tr>\n",
       "    <tr>\n",
       "      <th>2</th>\n",
       "      <td>Bitcoin</td>\n",
       "      <td>2013-04-29 23:59:59</td>\n",
       "    </tr>\n",
       "    <tr>\n",
       "      <th>22</th>\n",
       "      <td>XRP</td>\n",
       "      <td>2013-08-05 23:59:59</td>\n",
       "    </tr>\n",
       "    <tr>\n",
       "      <th>7</th>\n",
       "      <td>Dogecoin</td>\n",
       "      <td>2013-12-16 23:59:59</td>\n",
       "    </tr>\n",
       "    <tr>\n",
       "      <th>12</th>\n",
       "      <td>Monero</td>\n",
       "      <td>2014-05-22 23:59:59</td>\n",
       "    </tr>\n",
       "  </tbody>\n",
       "</table>\n",
       "</div>"
      ],
      "text/plain": [
       "        Name                 Date\n",
       "11  Litecoin  2013-04-29 23:59:59\n",
       "2    Bitcoin  2013-04-29 23:59:59\n",
       "22       XRP  2013-08-05 23:59:59\n",
       "7   Dogecoin  2013-12-16 23:59:59\n",
       "12    Monero  2014-05-22 23:59:59"
      ]
     },
     "execution_count": 15,
     "metadata": {},
     "output_type": "execute_result"
    }
   ],
   "source": [
    "min_date_df.sort_values(by='Date', ascending=True, inplace=True)\n",
    "oldestcryptocurrency = min_date_df.head(5)\n",
    "oldestcryptocurrency"
   ]
  },
  {
   "cell_type": "markdown",
   "id": "unique-booking",
   "metadata": {},
   "source": [
    "### Data Visualization #1"
   ]
  },
  {
   "cell_type": "markdown",
   "id": "communist-attitude",
   "metadata": {},
   "source": [
    "Now the first data visualization contains some references of matplotlib subplots. This requires some precise code that is important to explain to Python. Depending on you preference you can select a title and label for all of your outputs of the graph.\n",
    "\n",
    "Reference link: https://matplotlib.org/3.5.0/api/_as_gen/matplotlib.pyplot.subplots.html"
   ]
  },
  {
   "cell_type": "code",
   "execution_count": 16,
   "id": "civil-inside",
   "metadata": {},
   "outputs": [
    {
     "data": {
      "text/plain": [
       "<BarContainer object of 5 artists>"
      ]
     },
     "execution_count": 16,
     "metadata": {},
     "output_type": "execute_result"
    },
    {
     "data": {
      "image/png": "[encoded data removed]",
      "text/plain": [
       "<Figure size 432x288 with 1 Axes>"
      ]
     },
     "metadata": {
      "needs_background": "light"
     },
     "output_type": "display_data"
    }
   ],
   "source": [
    "fig2, ax2 = plt.subplots()\n",
    "ax2.set_title('Top Five Crypto Based on Maximum Marketcap')\n",
    "ax2.set_xlabel('Coins')\n",
    "ax2.set_ylabel('United States Dollars')\n",
    "ax2.bar(names, topfive_marketcap, color=('blue', 'orange', 'green', 'red', 'purple'))"
   ]
  },
  {
   "cell_type": "markdown",
   "id": "frank-bangladesh",
   "metadata": {},
   "source": [
    "Citation is very important because it helps to give credit to individuals who developed an important step of this process. The pie chart follows some of the subplot formatting, but I used references from the following link to provide the correct percentage labeling and other information.\n",
    "\n",
    "Reference link: https://matplotlib.org/stable/gallery/pie_and_polar_charts/pie_features.html"
   ]
  },
  {
   "cell_type": "code",
   "execution_count": 17,
   "id": "upper-transcript",
   "metadata": {},
   "outputs": [
    {
     "data": {
      "image/png": "[encoded data removed]",
      "text/plain": [
       "<Figure size 432x288 with 1 Axes>"
      ]
     },
     "metadata": {},
     "output_type": "display_data"
    }
   ],
   "source": [
    "fig1, ax1 = plt.subplots()\n",
    "ax1.set_title('Top Five Cryptocurrencies Based on Maximum Marketcap')\n",
    "ax1.pie(topfive_marketcap, labels=names, autopct='%1.1f%%')\n",
    "\n",
    "ax1.axis('equal')\n",
    "plt.show()"
   ]
  },
  {
   "cell_type": "markdown",
   "id": "ordinary-syntax",
   "metadata": {},
   "source": [
    "### Data Visualization #2"
   ]
  },
  {
   "cell_type": "markdown",
   "id": "ongoing-analyst",
   "metadata": {},
   "source": [
    "This visualization took the five oldest cryptocurrencies and used their Dataframes to output their closing price for each day. The dates are difficult to read because they are very small, but it shows Bitcoin dominating the entire crypto market since the rest of the coins are lines compared to the purple line."
   ]
  },
  {
   "cell_type": "code",
   "execution_count": 18,
   "id": "expressed-minutes",
   "metadata": {},
   "outputs": [
    {
     "data": {
      "text/plain": [
       "<matplotlib.legend.Legend at 0x7f972541aca0>"
      ]
     },
     "execution_count": 18,
     "metadata": {},
     "output_type": "execute_result"
    },
    {
     "data": {
      "image/png": "[encoded data removed]",
      "text/plain": [
       "<Figure size 432x288 with 1 Axes>"
      ]
     },
     "metadata": {
      "needs_background": "light"
     },
     "output_type": "display_data"
    }
   ],
   "source": [
    "plt.title('Oldest Cryptocurrencies Through Closing Price')\n",
    "plt.xlabel('Dates')\n",
    "plt.ylabel('United States Dollars')\n",
    "plt.plot(litecoin_df['Date'], litecoin_df['Close'], color='brown', label='Litecoin')\n",
    "plt.plot(bitcoin_df['Date'], bitcoin_df['Close'], color='purple', label='Bitcoin')\n",
    "plt.plot(xrp_df['Date'], xrp_df['Close'], color='blue', label='XRP')\n",
    "plt.plot(dogecoin_df['Date'], dogecoin_df['Close'], color='pink', label='Dogecoin')\n",
    "plt.plot(monero_df['Date'], monero_df['Close'], color='black', label='Monero')\n",
    "plt.legend()"
   ]
  },
  {
   "cell_type": "markdown",
   "id": "israeli-deposit",
   "metadata": {},
   "source": [
    "## Conclusion"
   ]
  },
  {
   "cell_type": "markdown",
   "id": "stuffed-financing",
   "metadata": {},
   "source": [
    "Due to the results of the data visualizations, I will need more outputs and information about the cryptocurrencies to determine if the datasets support my hypothesis that the older cryptocurrencies will have a higher marketcap and value compared to newer ones. I believe there will be other factors that influence the value of these coins so I would need to perform more research into datasets that connect to the current one I'm using."
   ]
  }
 ],
 "metadata": {
  "kernelspec": {
   "display_name": "Python 3",
   "language": "python",
   "name": "python3"
  },
  "language_info": {
   "codemirror_mode": {
    "name": "ipython",
    "version": 3
   },
   "file_extension": ".py",
   "mimetype": "text/x-python",
   "name": "python",
   "nbconvert_exporter": "python",
   "pygments_lexer": "ipython3",
   "version": "3.8.5"
  }
 },
 "nbformat": 4,
 "nbformat_minor": 5
}
